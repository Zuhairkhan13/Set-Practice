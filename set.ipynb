{
 "cells": [
  {
   "cell_type": "markdown",
   "id": "66956eb9",
   "metadata": {},
   "source": [
    "# Set"
   ]
  },
  {
   "cell_type": "code",
   "execution_count": 18,
   "id": "8b426eb8",
   "metadata": {},
   "outputs": [
    {
     "name": "stdout",
     "output_type": "stream",
     "text": [
      "<class 'set'>\n"
     ]
    },
    {
     "data": {
      "text/plain": [
       "{0, 2, 4, 6}"
      ]
     },
     "execution_count": 18,
     "metadata": {},
     "output_type": "execute_result"
    }
   ],
   "source": [
    "s = {2,4,2,6,0,4}\n",
    "print(type(s))\n",
    "s"
   ]
  },
  {
   "cell_type": "code",
   "execution_count": 12,
   "id": "89955d81",
   "metadata": {},
   "outputs": [
    {
     "data": {
      "text/plain": [
       "{13, 2005, 'khan', 'zuhair'}"
      ]
     },
     "execution_count": 12,
     "metadata": {},
     "output_type": "execute_result"
    }
   ],
   "source": [
    "info = {\"zuhair\",13,\"khan\",2005}\n",
    "info"
   ]
  },
  {
   "cell_type": "code",
   "execution_count": 13,
   "id": "1378549d",
   "metadata": {},
   "outputs": [
    {
     "data": {
      "text/plain": [
       "{0, 2, 4, 6}"
      ]
     },
     "execution_count": 13,
     "metadata": {},
     "output_type": "execute_result"
    }
   ],
   "source": [
    "s"
   ]
  },
  {
   "cell_type": "code",
   "execution_count": 14,
   "id": "5d1081ac",
   "metadata": {},
   "outputs": [
    {
     "data": {
      "text/plain": [
       "{13, 2005, 'khan', 'zuhair'}"
      ]
     },
     "execution_count": 14,
     "metadata": {},
     "output_type": "execute_result"
    }
   ],
   "source": [
    "info"
   ]
  },
  {
   "cell_type": "code",
   "execution_count": 15,
   "id": "dcdd9691",
   "metadata": {},
   "outputs": [
    {
     "data": {
      "text/plain": [
       "dict"
      ]
     },
     "execution_count": 15,
     "metadata": {},
     "output_type": "execute_result"
    }
   ],
   "source": [
    "sett = {}\n",
    "type(sett)"
   ]
  },
  {
   "cell_type": "code",
   "execution_count": 16,
   "id": "9e52a1a4",
   "metadata": {},
   "outputs": [
    {
     "data": {
      "text/plain": [
       "set"
      ]
     },
     "execution_count": 16,
     "metadata": {},
     "output_type": "execute_result"
    }
   ],
   "source": [
    "settt= set()\n",
    "type(settt)"
   ]
  },
  {
   "cell_type": "code",
   "execution_count": 17,
   "id": "6288ce13",
   "metadata": {},
   "outputs": [
    {
     "name": "stdout",
     "output_type": "stream",
     "text": [
      "zuhair\n",
      "2005\n",
      "13\n",
      "khan\n"
     ]
    }
   ],
   "source": [
    "for value in info:\n",
    "    print(value)"
   ]
  },
  {
   "cell_type": "markdown",
   "id": "f6fb87f3",
   "metadata": {},
   "source": [
    "# Set Method"
   ]
  },
  {
   "cell_type": "code",
   "execution_count": 28,
   "id": "6fafd48a",
   "metadata": {},
   "outputs": [
    {
     "name": "stdout",
     "output_type": "stream",
     "text": [
      "{1, 2, 3, 5, 6, 7} {3, 6, 7}\n",
      "{1, 2, 3, 5, 6, 7}\n"
     ]
    }
   ],
   "source": [
    "s1={1,2,5,6}\n",
    "s2={3,6,7}\n",
    "s1.update(s2)\n",
    "print(s1,s2)\n",
    "print(s1.union(s2))"
   ]
  },
  {
   "cell_type": "code",
   "execution_count": 29,
   "id": "9cb8f3e2",
   "metadata": {},
   "outputs": [
    {
     "name": "stdout",
     "output_type": "stream",
     "text": [
      "{3, 6, 7}\n"
     ]
    }
   ],
   "source": [
    "print(s1.intersection(s2))"
   ]
  },
  {
   "cell_type": "code",
   "execution_count": 35,
   "id": "0be2d332",
   "metadata": {},
   "outputs": [
    {
     "name": "stdout",
     "output_type": "stream",
     "text": [
      "{6} {3, 6, 7}\n"
     ]
    }
   ],
   "source": [
    "s3={1,2,5,6}\n",
    "s4={3,6,7}\n",
    "#print(s3,s4)\n",
    "s3.intersection_update(s4)\n",
    "print(s3,s4)"
   ]
  },
  {
   "cell_type": "code",
   "execution_count": 41,
   "id": "b6fe6a01",
   "metadata": {},
   "outputs": [
    {
     "name": "stdout",
     "output_type": "stream",
     "text": [
      "{'islalmabad', 'punjab', 'hyderabad', 'lahore'}\n"
     ]
    }
   ],
   "source": [
    "city = {\"karachi\",\"hyderabad\",\"islalmabad\"}\n",
    "city2={\"lahore\",\"karachi\",\"punjab\"}\n",
    "city3 =city.symmetric_difference(city2)\n",
    "print(city3)"
   ]
  },
  {
   "cell_type": "code",
   "execution_count": 46,
   "id": "1f046344",
   "metadata": {},
   "outputs": [
    {
     "name": "stdout",
     "output_type": "stream",
     "text": [
      "{'hyderabad', 'islalmabad'}\n"
     ]
    }
   ],
   "source": [
    "city = {\"karachi\",\"hyderabad\",\"islalmabad\"}\n",
    "city2={\"lahore\",\"karachi\",\"punjab\"}\n",
    "city3 = city.difference(city2)\n",
    "city.difference_update(city2)\n",
    "print(city)"
   ]
  },
  {
   "cell_type": "code",
   "execution_count": 49,
   "id": "508ad3c5",
   "metadata": {},
   "outputs": [
    {
     "name": "stdout",
     "output_type": "stream",
     "text": [
      "False\n"
     ]
    }
   ],
   "source": [
    "city = {\"karachi\",\"hyderabad\",\"islalmabad\"}\n",
    "city2={\"lahore\",\"karachi\",\"punjab\"}\n",
    "print(city.isdisjoint(city2))"
   ]
  },
  {
   "cell_type": "code",
   "execution_count": 54,
   "id": "72c1b980",
   "metadata": {},
   "outputs": [
    {
     "name": "stdout",
     "output_type": "stream",
     "text": [
      "False\n",
      "True\n",
      "True\n"
     ]
    }
   ],
   "source": [
    "city = {\"karachi\",\"hyderabad\",\"islalmabad\"}\n",
    "city2={\"lahore\",\"karachi\",\"punjab\"}\n",
    "city3={\"karachi\",\"hyderabad\"}\n",
    "print(city.issuperset(city2))\n",
    "print(city.issuperset(city3))\n",
    "print(city3.issubset(city))"
   ]
  },
  {
   "cell_type": "code",
   "execution_count": 55,
   "id": "afdea9ef",
   "metadata": {},
   "outputs": [
    {
     "name": "stdout",
     "output_type": "stream",
     "text": [
      "{'hyderabad', 'islalmabad', 'lahore', 'karachi'}\n"
     ]
    }
   ],
   "source": [
    "city = {\"karachi\",\"hyderabad\",\"islalmabad\"}\n",
    "city.add(\"lahore\")\n",
    "print(city)"
   ]
  },
  {
   "cell_type": "code",
   "execution_count": 61,
   "id": "45270ff0",
   "metadata": {},
   "outputs": [
    {
     "name": "stdout",
     "output_type": "stream",
     "text": [
      "{'l', 'e', 'islalmabad', 'o', 'b', 'p', 'j', 'hyderabad', 'n', 'karachi', 'a', 'h', 'u', 'r'}\n"
     ]
    }
   ],
   "source": [
    "city = {\"karachi\",\"hyderabad\",\"islalmabad\"}\n",
    "city.update(\"lahore\",\"punjab\")\n",
    "print(city)"
   ]
  },
  {
   "cell_type": "code",
   "execution_count": 64,
   "id": "080a0ccb",
   "metadata": {},
   "outputs": [
    {
     "name": "stdout",
     "output_type": "stream",
     "text": [
      "{'hyderabad', 'islalmabad', 'karachi'}\n"
     ]
    }
   ],
   "source": [
    "city = {\"karachi\",\"hyderabad\",\"islalmabad\",\"lahore\"}\n",
    "city.remove(\"lahore\")\n",
    "print(city)"
   ]
  },
  {
   "cell_type": "code",
   "execution_count": 67,
   "id": "cd43ac10",
   "metadata": {},
   "outputs": [
    {
     "name": "stdout",
     "output_type": "stream",
     "text": [
      "{'hyderabad', 'islalmabad', 'lahore', 'karachi'}\n"
     ]
    }
   ],
   "source": [
    "city = {\"karachi\",\"hyderabad\",\"islalmabad\",\"lahore\"}\n",
    "city.discard(\"hyderabad2\")\n",
    "print(city)"
   ]
  },
  {
   "cell_type": "code",
   "execution_count": 70,
   "id": "1bb4d289",
   "metadata": {},
   "outputs": [
    {
     "name": "stdout",
     "output_type": "stream",
     "text": [
      "{'islalmabad', 'lahore', 'karachi'}\n"
     ]
    },
    {
     "data": {
      "text/plain": [
       "'hyderabad'"
      ]
     },
     "execution_count": 70,
     "metadata": {},
     "output_type": "execute_result"
    }
   ],
   "source": [
    "city = {\"karachi\",\"hyderabad\",\"islalmabad\",\"lahore\"}\n",
    "city2=city.pop()\n",
    "print(city)\n",
    "city2"
   ]
  },
  {
   "cell_type": "code",
   "execution_count": 72,
   "id": "7b85e4c6",
   "metadata": {},
   "outputs": [],
   "source": [
    "city = {\"karachi\",\"hyderabad\",\"islalmabad\",\"lahore\"}\n",
    "del city"
   ]
  },
  {
   "cell_type": "code",
   "execution_count": 73,
   "id": "d116537a",
   "metadata": {},
   "outputs": [
    {
     "data": {
      "text/plain": [
       "set()"
      ]
     },
     "execution_count": 73,
     "metadata": {},
     "output_type": "execute_result"
    }
   ],
   "source": [
    "city = {\"karachi\",\"hyderabad\",\"islalmabad\",\"lahore\"}\n",
    "city.clear()\n",
    "city"
   ]
  },
  {
   "cell_type": "code",
   "execution_count": null,
   "id": "877b0770",
   "metadata": {},
   "outputs": [],
   "source": []
  }
 ],
 "metadata": {
  "kernelspec": {
   "display_name": "Python 3 (ipykernel)",
   "language": "python",
   "name": "python3"
  },
  "language_info": {
   "codemirror_mode": {
    "name": "ipython",
    "version": 3
   },
   "file_extension": ".py",
   "mimetype": "text/x-python",
   "name": "python",
   "nbconvert_exporter": "python",
   "pygments_lexer": "ipython3",
   "version": "3.11.5"
  }
 },
 "nbformat": 4,
 "nbformat_minor": 5
}
